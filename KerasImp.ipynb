{
 "cells": [
  {
   "cell_type": "code",
   "execution_count": 6,
   "metadata": {},
   "outputs": [],
   "source": [
    "import pandas as pd\n",
    "import numpy as np\n",
    "from keras.models import Sequential\n",
    "from keras.layers import Dense, Activation, Dropout\n",
    "\n",
    "dfTrain = pd.read_csv(\"./NewTrainSet\")\n",
    "dfTrain = dfTrain.drop(columns=['DMA', 'Unnamed: 0'])\n",
    "\n",
    "dfTest = pd.read_csv(\"./NewTestSet\")\n",
    "dfTest = dfTest.drop(columns=['DMA', 'Unnamed: 0'])"
   ]
  },
  {
   "cell_type": "code",
   "execution_count": 7,
   "metadata": {},
   "outputs": [],
   "source": [
    "def df_to_numpy_array(df):\n",
    "    num_columns = list(df.select_dtypes(include=['float64', 'int64']).columns.values)\n",
    "    num_values = df[num_columns].values\n",
    "    bool_columns = list(df.select_dtypes(include=['bool']).columns.values)\n",
    "    bool_values = df[bool_columns].values\n",
    "    return np.concatenate((bool_values,num_values),axis=1)"
   ]
  },
  {
   "cell_type": "code",
   "execution_count": 8,
   "metadata": {},
   "outputs": [],
   "source": [
    "XTrain = df_to_numpy_array(dfTrain.drop(columns=[\"LeakFixIn4Days\", \"t20Leak\", \"t24Leak\", \"t28Leak\", \"t32Leak\", \"t36Leak\", \"t40Leak\"]))\n",
    "XTest = df_to_numpy_array(dfTest.drop(columns=[\"LeakFixIn4Days\", \"t20Leak\", \"t24Leak\", \"t28Leak\", \"t32Leak\", \"t36Leak\", \"t40Leak\"]))\n",
    "yTrain = df_to_numpy_array(dfTrain.drop(columns=[\"Flow\",\"dev\",\"t-4dev\",\"t-8dev\",\"t-12dev\",\"t-16dev\",\"t-20dev\",\"t-24dev\",\"t-28dev\",\"t-32dev\",\"t-36dev\",\"t-40dev\",\"t20Leak\", \"t24Leak\", \"t28Leak\", \"t32Leak\", \"t36Leak\", \"t40Leak\"]))\n",
    "yTest = df_to_numpy_array(dfTest.drop(columns=[\"Flow\",\"dev\",\"t-4dev\",\"t-8dev\",\"t-12dev\",\"t-16dev\",\"t-20dev\",\"t-24dev\",\"t-28dev\",\"t-32dev\",\"t-36dev\",\"t-40dev\",\"t20Leak\",\"t24Leak\",\"t28Leak\",\"t32Leak\",\"t36Leak\",\"t40Leak\"]))"
   ]
  },
  {
   "cell_type": "code",
   "execution_count": 10,
   "metadata": {},
   "outputs": [
    {
     "name": "stdout",
     "output_type": "stream",
     "text": [
      "Train on 100000 samples, validate on 12520 samples\n",
      "Epoch 1/10\n",
      "100000/100000 [==============================] - 58s 579us/step - loss: 0.5982 - acc: 0.6914 - val_loss: 0.6020 - val_acc: 0.8723\n",
      "Epoch 2/10\n",
      "100000/100000 [==============================] - 58s 577us/step - loss: 0.5865 - acc: 0.7006 - val_loss: 0.4763 - val_acc: 0.8870\n",
      "Epoch 3/10\n",
      "100000/100000 [==============================] - 57s 574us/step - loss: 0.5796 - acc: 0.7076 - val_loss: 0.4839 - val_acc: 0.8777\n",
      "Epoch 4/10\n",
      "100000/100000 [==============================] - 57s 575us/step - loss: 0.5744 - acc: 0.7096 - val_loss: 0.4724 - val_acc: 0.8847\n",
      "Epoch 5/10\n",
      "100000/100000 [==============================] - 57s 574us/step - loss: 0.5704 - acc: 0.7130 - val_loss: 0.4712 - val_acc: 0.8840\n",
      "Epoch 6/10\n",
      "100000/100000 [==============================] - 57s 574us/step - loss: 0.5676 - acc: 0.7147 - val_loss: 0.4615 - val_acc: 0.8896\n",
      "Epoch 7/10\n",
      "100000/100000 [==============================] - 57s 575us/step - loss: 0.5661 - acc: 0.7166 - val_loss: 0.4389 - val_acc: 0.8903\n",
      "Epoch 8/10\n",
      "100000/100000 [==============================] - 57s 574us/step - loss: 0.5640 - acc: 0.7174 - val_loss: 0.4609 - val_acc: 0.8883\n",
      "Epoch 9/10\n",
      "100000/100000 [==============================] - 58s 575us/step - loss: 0.5623 - acc: 0.7186 - val_loss: 0.4566 - val_acc: 0.8882\n",
      "Epoch 10/10\n",
      "100000/100000 [==============================] - 58s 580us/step - loss: 0.5619 - acc: 0.7190 - val_loss: 0.4444 - val_acc: 0.8889\n"
     ]
    },
    {
     "data": {
      "text/plain": [
       "<keras.callbacks.History at 0x13df5260d30>"
      ]
     },
     "execution_count": 10,
     "metadata": {},
     "output_type": "execute_result"
    }
   ],
   "source": [
    "    model = Sequential()\n",
    "    model.add(Dense(12, input_dim=12, kernel_initializer ='normal', activation='relu'))\n",
    "    model.add(Dropout(0.2))\n",
    "    model.add(Dense(500, kernel_initializer ='normal', activation='relu'))\n",
    "    model.add(Dropout(0.2))\n",
    "    model.add(Dense(500, kernel_initializer ='normal', activation='relu'))\n",
    "    model.add(Dropout(0.2))\n",
    "    model.add(Dense(1, kernel_initializer ='normal', activation='sigmoid'))\n",
    "    model.compile(loss='binary_crossentropy', optimizer='adagrad', metrics=['accuracy'])\n",
    "    \n",
    "model.fit(XTrain, yTrain, validation_data=(XTest,yTest), epochs=10, batch_size=20)"
   ]
  },
  {
   "cell_type": "code",
   "execution_count": null,
   "metadata": {},
   "outputs": [],
   "source": []
  }
 ],
 "metadata": {
  "kernelspec": {
   "display_name": "Python 3",
   "language": "python",
   "name": "python3"
  },
  "language_info": {
   "codemirror_mode": {
    "name": "ipython",
    "version": 3
   },
   "file_extension": ".py",
   "mimetype": "text/x-python",
   "name": "python",
   "nbconvert_exporter": "python",
   "pygments_lexer": "ipython3",
   "version": "3.6.4"
  }
 },
 "nbformat": 4,
 "nbformat_minor": 2
}
