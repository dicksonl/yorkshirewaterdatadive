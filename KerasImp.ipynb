{
 "cells": [
  {
   "cell_type": "code",
   "execution_count": 21,
   "metadata": {},
   "outputs": [],
   "source": [
    "import pandas as pd\n",
    "import numpy as np\n",
    "import matplotlib.pyplot as plt\n",
    "from keras.models import Sequential\n",
    "from keras.layers import Dense, Activation, Dropout\n",
    "from keras.wrappers.scikit_learn import KerasRegressor\n",
    "from sklearn.cross_validation import cross_val_score\n",
    "from keras import backend as K\n",
    "\n",
    "K.tensorflow_backend._get_available_gpus()\n",
    "\n",
    "dfTrain = pd.read_pickle(\"./trainingSet\")\n",
    "dfTrain = dfTrain.drop(columns=['DMA'])\n",
    "\n",
    "dfTest = pd.read_pickle(\"./trainingSet\")\n",
    "dfTest = dfTest.drop(columns=['DMA'])"
   ]
  },
  {
   "cell_type": "code",
   "execution_count": 22,
   "metadata": {},
   "outputs": [],
   "source": [
    "def df_to_numpy_array(df):\n",
    "    num_columns = list(df.select_dtypes(include=['float64', 'int64']).columns.values)\n",
    "    num_values = df[num_columns].values\n",
    "    bool_columns = list(df.select_dtypes(include=['bool']).columns.values)\n",
    "    bool_values = df[bool_columns].values\n",
    "    return np.concatenate((bool_values,num_values),axis=1)"
   ]
  },
  {
   "cell_type": "code",
   "execution_count": 28,
   "metadata": {},
   "outputs": [],
   "source": [
    "def model():\n",
    "    model = Sequential()\n",
    "    model.add(Dense(12, input_dim=12, init='normal', activation='relu'))\n",
    "    model.add(Dense(12, init='normal', activation='relu'))\n",
    "    model.add(Dense(1, init='normal', activation='sigmoid'))\n",
    "    model.compile(loss='binary_crossentropy', optimizer='adam', metrics=['accuracy'])\n",
    "    return model"
   ]
  },
  {
   "cell_type": "code",
   "execution_count": 29,
   "metadata": {},
   "outputs": [],
   "source": [
    "XTrain = df_to_numpy_array(dfTrain.drop([\"LeakFixIn4Days\", \"t20Leak\", \"t24Leak\", \"t28Leak\", \"t32Leak\", \"t36Leak\", \"t40Leak\"],axis=1))\n",
    "XTest = df_to_numpy_array(dfTest.drop([\"LeakFixIn4Days\", \"t20Leak\", \"t24Leak\", \"t28Leak\", \"t32Leak\", \"t36Leak\", \"t40Leak\"],axis=1))\n",
    "yTrain = dfTrain['LeakFixIn4Days'].values\n",
    "yTest = dfTest['LeakFixIn4Days'].values"
   ]
  },
  {
   "cell_type": "code",
   "execution_count": 30,
   "metadata": {},
   "outputs": [
    {
     "data": {
      "text/plain": [
       "array([ 0.089     ,  0.02637037,  0.01460784, -0.02087037, -0.01862963,\n",
       "        0.01476471,  0.03127451,  0.01537037,  0.00360784, -0.01092157,\n",
       "       -0.00550943, -0.03287037])"
      ]
     },
     "execution_count": 30,
     "metadata": {},
     "output_type": "execute_result"
    }
   ],
   "source": [
    "XTrain[0]"
   ]
  },
  {
   "cell_type": "code",
   "execution_count": 31,
   "metadata": {},
   "outputs": [
    {
     "name": "stderr",
     "output_type": "stream",
     "text": [
      "C:\\ProgramData\\Anaconda3\\lib\\site-packages\\ipykernel_launcher.py:3: UserWarning: Update your `Dense` call to the Keras 2 API: `Dense(12, input_dim=12, activation=\"relu\", kernel_initializer=\"normal\")`\n",
      "  This is separate from the ipykernel package so we can avoid doing imports until\n",
      "C:\\ProgramData\\Anaconda3\\lib\\site-packages\\ipykernel_launcher.py:4: UserWarning: Update your `Dense` call to the Keras 2 API: `Dense(12, activation=\"relu\", kernel_initializer=\"normal\")`\n",
      "  after removing the cwd from sys.path.\n",
      "C:\\ProgramData\\Anaconda3\\lib\\site-packages\\ipykernel_launcher.py:5: UserWarning: Update your `Dense` call to the Keras 2 API: `Dense(1, activation=\"sigmoid\", kernel_initializer=\"normal\")`\n",
      "  \"\"\"\n"
     ]
    },
    {
     "name": "stdout",
     "output_type": "stream",
     "text": [
      "Epoch 1/1\n",
      "554333/554333 [==============================] - 73s 131us/step - loss: 0.2756 - acc: 0.9194\n",
      "184778/184778 [==============================] - 14s 74us/step\n",
      "Epoch 1/1\n",
      "554333/554333 [==============================] - 73s 132us/step - loss: 0.2596 - acc: 0.9254\n",
      "184778/184778 [==============================] - 14s 74us/step\n",
      "Epoch 1/1\n",
      "554333/554333 [==============================] - 73s 132us/step - loss: 0.2552 - acc: 0.9278\n",
      "184778/184778 [==============================] - 14s 74us/step\n",
      "Epoch 1/1\n",
      "554334/554334 [==============================] - 74s 133us/step - loss: 0.2550 - acc: 0.9268\n",
      "184777/184777 [==============================] - 14s 75us/step\n",
      "msle = -0.26 std = 0.02\n"
     ]
    }
   ],
   "source": [
    "kr = KerasRegressor(build_fn=model, nb_epoch=1, batch_size=5, verbose=1)\n",
    "\n",
    "scores = cross_val_score(kr, XTrain, yTrain, cv=4)\n",
    "print(\"msle = %4.2f std = %4.2f\" % (scores.mean(),scores.std()))"
   ]
  },
  {
   "cell_type": "code",
   "execution_count": null,
   "metadata": {},
   "outputs": [
    {
     "name": "stderr",
     "output_type": "stream",
     "text": [
      "C:\\ProgramData\\Anaconda3\\lib\\site-packages\\ipykernel_launcher.py:2: UserWarning: Update your `Dense` call to the Keras 2 API: `Dense(12, input_dim=12, activation=\"relu\", kernel_initializer=\"normal\")`\n",
      "  \n",
      "C:\\ProgramData\\Anaconda3\\lib\\site-packages\\ipykernel_launcher.py:3: UserWarning: Update your `Dense` call to the Keras 2 API: `Dense(12, activation=\"relu\", kernel_initializer=\"normal\")`\n",
      "  This is separate from the ipykernel package so we can avoid doing imports until\n",
      "C:\\ProgramData\\Anaconda3\\lib\\site-packages\\ipykernel_launcher.py:4: UserWarning: Update your `Dense` call to the Keras 2 API: `Dense(1, activation=\"sigmoid\", kernel_initializer=\"normal\")`\n",
      "  after removing the cwd from sys.path.\n"
     ]
    },
    {
     "name": "stdout",
     "output_type": "stream",
     "text": [
      "Train on 739111 samples, validate on 739111 samples\n",
      "Epoch 1/3\n",
      "739111/739111 [==============================] - 154s 208us/step - loss: 0.2609 - acc: 0.9248 - val_loss: 0.2603 - val_acc: 0.9248\n",
      "Epoch 2/3\n",
      "739111/739111 [==============================] - 158s 214us/step - loss: 0.2591 - acc: 0.9248 - val_loss: 0.2583 - val_acc: 0.9248\n",
      "Epoch 3/3\n",
      "738905/739111 [============================>.] - ETA: 0s - loss: 0.2580 - acc: 0.9248"
     ]
    }
   ],
   "source": [
    "    model = Sequential()\n",
    "    model.add(Dense(12, input_dim=12, init='normal', activation='relu'))\n",
    "    model.add(Dense(12, init='normal', activation='relu'))\n",
    "    model.add(Dense(1, init='normal', activation='sigmoid'))\n",
    "    model.compile(loss='binary_crossentropy', optimizer='adam', metrics=['accuracy'])\n",
    "    \n",
    "model.fit(XTrain, yTrain, validation_data=(XTest,yTest), epochs=3, batch_size=5)"
   ]
  },
  {
   "cell_type": "code",
   "execution_count": null,
   "metadata": {},
   "outputs": [],
   "source": []
  }
 ],
 "metadata": {
  "kernelspec": {
   "display_name": "Python 3",
   "language": "python",
   "name": "python3"
  },
  "language_info": {
   "codemirror_mode": {
    "name": "ipython",
    "version": 3
   },
   "file_extension": ".py",
   "mimetype": "text/x-python",
   "name": "python",
   "nbconvert_exporter": "python",
   "pygments_lexer": "ipython3",
   "version": "3.6.4"
  }
 },
 "nbformat": 4,
 "nbformat_minor": 2
}
