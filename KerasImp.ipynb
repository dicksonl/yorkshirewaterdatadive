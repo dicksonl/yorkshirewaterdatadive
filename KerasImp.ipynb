{
 "cells": [
  {
   "cell_type": "code",
   "execution_count": 62,
   "metadata": {},
   "outputs": [
    {
     "data": {
      "text/html": [
       "<div>\n",
       "<style scoped>\n",
       "    .dataframe tbody tr th:only-of-type {\n",
       "        vertical-align: middle;\n",
       "    }\n",
       "\n",
       "    .dataframe tbody tr th {\n",
       "        vertical-align: top;\n",
       "    }\n",
       "\n",
       "    .dataframe thead th {\n",
       "        text-align: right;\n",
       "    }\n",
       "</style>\n",
       "<table border=\"1\" class=\"dataframe\">\n",
       "  <thead>\n",
       "    <tr style=\"text-align: right;\">\n",
       "      <th></th>\n",
       "      <th>Flow</th>\n",
       "      <th>dev</th>\n",
       "      <th>t-4dev</th>\n",
       "      <th>t-8dev</th>\n",
       "      <th>t-12dev</th>\n",
       "      <th>t-16dev</th>\n",
       "      <th>t-20dev</th>\n",
       "      <th>t-24dev</th>\n",
       "      <th>t-28dev</th>\n",
       "      <th>t-32dev</th>\n",
       "      <th>t-36dev</th>\n",
       "      <th>t-40dev</th>\n",
       "      <th>t20Leak</th>\n",
       "      <th>t24Leak</th>\n",
       "      <th>t28Leak</th>\n",
       "      <th>t32Leak</th>\n",
       "      <th>t36Leak</th>\n",
       "      <th>t40Leak</th>\n",
       "      <th>LeakFixIn4Days</th>\n",
       "    </tr>\n",
       "  </thead>\n",
       "  <tbody>\n",
       "    <tr>\n",
       "      <th>0</th>\n",
       "      <td>0.089</td>\n",
       "      <td>0.026370</td>\n",
       "      <td>0.014608</td>\n",
       "      <td>-0.020870</td>\n",
       "      <td>-0.018630</td>\n",
       "      <td>0.014765</td>\n",
       "      <td>0.031275</td>\n",
       "      <td>0.015370</td>\n",
       "      <td>0.003608</td>\n",
       "      <td>-0.010922</td>\n",
       "      <td>-0.005509</td>\n",
       "      <td>-0.032870</td>\n",
       "      <td>False</td>\n",
       "      <td>False</td>\n",
       "      <td>False</td>\n",
       "      <td>False</td>\n",
       "      <td>False</td>\n",
       "      <td>False</td>\n",
       "      <td>False</td>\n",
       "    </tr>\n",
       "    <tr>\n",
       "      <th>1</th>\n",
       "      <td>0.033</td>\n",
       "      <td>-0.029000</td>\n",
       "      <td>0.029451</td>\n",
       "      <td>-0.012333</td>\n",
       "      <td>-0.018000</td>\n",
       "      <td>0.023451</td>\n",
       "      <td>0.047627</td>\n",
       "      <td>0.027000</td>\n",
       "      <td>0.018451</td>\n",
       "      <td>-0.010098</td>\n",
       "      <td>-0.005000</td>\n",
       "      <td>-0.001333</td>\n",
       "      <td>False</td>\n",
       "      <td>False</td>\n",
       "      <td>False</td>\n",
       "      <td>False</td>\n",
       "      <td>False</td>\n",
       "      <td>False</td>\n",
       "      <td>False</td>\n",
       "    </tr>\n",
       "    <tr>\n",
       "      <th>2</th>\n",
       "      <td>0.067</td>\n",
       "      <td>-0.006370</td>\n",
       "      <td>0.097098</td>\n",
       "      <td>-0.053370</td>\n",
       "      <td>0.048630</td>\n",
       "      <td>-0.009314</td>\n",
       "      <td>-0.015118</td>\n",
       "      <td>0.093630</td>\n",
       "      <td>-0.013902</td>\n",
       "      <td>0.034902</td>\n",
       "      <td>-0.024925</td>\n",
       "      <td>0.002630</td>\n",
       "      <td>False</td>\n",
       "      <td>False</td>\n",
       "      <td>False</td>\n",
       "      <td>False</td>\n",
       "      <td>False</td>\n",
       "      <td>False</td>\n",
       "      <td>False</td>\n",
       "    </tr>\n",
       "    <tr>\n",
       "      <th>3</th>\n",
       "      <td>0.111</td>\n",
       "      <td>0.039222</td>\n",
       "      <td>0.036569</td>\n",
       "      <td>-0.003815</td>\n",
       "      <td>-0.004778</td>\n",
       "      <td>0.029627</td>\n",
       "      <td>-0.023275</td>\n",
       "      <td>0.128222</td>\n",
       "      <td>0.025569</td>\n",
       "      <td>-0.009941</td>\n",
       "      <td>0.023528</td>\n",
       "      <td>0.018185</td>\n",
       "      <td>False</td>\n",
       "      <td>False</td>\n",
       "      <td>False</td>\n",
       "      <td>False</td>\n",
       "      <td>False</td>\n",
       "      <td>False</td>\n",
       "      <td>False</td>\n",
       "    </tr>\n",
       "    <tr>\n",
       "      <th>4</th>\n",
       "      <td>0.078</td>\n",
       "      <td>0.014608</td>\n",
       "      <td>-0.020870</td>\n",
       "      <td>-0.018630</td>\n",
       "      <td>0.014765</td>\n",
       "      <td>0.031275</td>\n",
       "      <td>0.015370</td>\n",
       "      <td>0.003608</td>\n",
       "      <td>-0.010922</td>\n",
       "      <td>-0.005509</td>\n",
       "      <td>-0.032870</td>\n",
       "      <td>-0.010922</td>\n",
       "      <td>False</td>\n",
       "      <td>False</td>\n",
       "      <td>False</td>\n",
       "      <td>False</td>\n",
       "      <td>False</td>\n",
       "      <td>False</td>\n",
       "      <td>False</td>\n",
       "    </tr>\n",
       "  </tbody>\n",
       "</table>\n",
       "</div>"
      ],
      "text/plain": [
       "    Flow       dev    t-4dev    t-8dev   t-12dev   t-16dev   t-20dev  \\\n",
       "0  0.089  0.026370  0.014608 -0.020870 -0.018630  0.014765  0.031275   \n",
       "1  0.033 -0.029000  0.029451 -0.012333 -0.018000  0.023451  0.047627   \n",
       "2  0.067 -0.006370  0.097098 -0.053370  0.048630 -0.009314 -0.015118   \n",
       "3  0.111  0.039222  0.036569 -0.003815 -0.004778  0.029627 -0.023275   \n",
       "4  0.078  0.014608 -0.020870 -0.018630  0.014765  0.031275  0.015370   \n",
       "\n",
       "    t-24dev   t-28dev   t-32dev   t-36dev   t-40dev  t20Leak  t24Leak  \\\n",
       "0  0.015370  0.003608 -0.010922 -0.005509 -0.032870    False    False   \n",
       "1  0.027000  0.018451 -0.010098 -0.005000 -0.001333    False    False   \n",
       "2  0.093630 -0.013902  0.034902 -0.024925  0.002630    False    False   \n",
       "3  0.128222  0.025569 -0.009941  0.023528  0.018185    False    False   \n",
       "4  0.003608 -0.010922 -0.005509 -0.032870 -0.010922    False    False   \n",
       "\n",
       "   t28Leak  t32Leak  t36Leak  t40Leak  LeakFixIn4Days  \n",
       "0    False    False    False    False           False  \n",
       "1    False    False    False    False           False  \n",
       "2    False    False    False    False           False  \n",
       "3    False    False    False    False           False  \n",
       "4    False    False    False    False           False  "
      ]
     },
     "execution_count": 62,
     "metadata": {},
     "output_type": "execute_result"
    }
   ],
   "source": [
    "import pandas as pd\n",
    "import numpy as np\n",
    "import matplotlib.pyplot as plt\n",
    "from keras.layers import Dense, Activation,Dropout\n",
    "from keras.wrappers.scikit_learn import KerasRegressor\n",
    "from sklearn.cross_validation import cross_val_score\n",
    "\n",
    "dfTrain = pd.read_pickle(\"./trainingSet\")\n",
    "dfTrain = dfTrain.drop(columns=['DMA'])\n",
    "\n",
    "dfTest = pd.read_pickle(\"./trainingSet\")\n",
    "dfTest = dfTest.drop(columns=['DMA'])\n",
    "\n",
    "df.head()"
   ]
  },
  {
   "cell_type": "code",
   "execution_count": 63,
   "metadata": {},
   "outputs": [],
   "source": [
    "def df_to_numpy_array(df):\n",
    "    ''' Seperate categorical and numerical columns of dataframe\n",
    "        Input df: Pandas dataframe\n",
    "        Output: numpy array\n",
    "    '''\n",
    "    #get names of numerical columns\n",
    "    num_columns = list(df.select_dtypes(include=['float64', 'int64']).columns.values)\n",
    "    \n",
    "    #get numerical values into NumPy array\n",
    "    num_values = df[num_columns].values\n",
    "    \n",
    "    #get categorical columns \n",
    "    bool_columns = list(df.select_dtypes(include=['bool']).columns.values)\n",
    "\n",
    "    #transform categorical columns into numpy array\n",
    "    bool_values = df[bool_columns].values\n",
    "    \n",
    "    return np.concatenate((bool_values,num_values),axis=1)"
   ]
  },
  {
   "cell_type": "code",
   "execution_count": 64,
   "metadata": {},
   "outputs": [],
   "source": [
    "def model():\n",
    "    model = Sequential()\n",
    "    model.add(Dense(18, input_dim=18, init='normal', activation='relu'))\n",
    "    model.add(Dense(18, init='normal', activation='relu'))\n",
    "    model.add(Dense(1, init='normal', activation='sigmoid'))\n",
    "    model.compile(loss='binary_crossentropy', optimizer='adam', metrics=['accuracy'])\n",
    "    return model"
   ]
  },
  {
   "cell_type": "code",
   "execution_count": 65,
   "metadata": {},
   "outputs": [],
   "source": [
    "XTrain = df_to_numpy_array(dfTrain.drop([\"LeakFixIn4Days\"],axis=1))\n",
    "XTest = df_to_numpy_array(dfTest.drop([\"LeakFixIn4Days\"],axis=1))\n",
    "yTrain = dfTrain['LeakFixIn4Days'].values\n",
    "yTest = dfTest['LeakFixIn4Days'].values"
   ]
  },
  {
   "cell_type": "code",
   "execution_count": 66,
   "metadata": {},
   "outputs": [
    {
     "data": {
      "text/plain": [
       "array([ 0.        ,  0.        ,  0.        ,  0.        ,  0.        ,\n",
       "        0.        ,  0.089     ,  0.02637037,  0.01460784, -0.02087037,\n",
       "       -0.01862963,  0.01476471,  0.03127451,  0.01537037,  0.00360784,\n",
       "       -0.01092157, -0.00550943, -0.03287037])"
      ]
     },
     "execution_count": 66,
     "metadata": {},
     "output_type": "execute_result"
    }
   ],
   "source": [
    "XTrain[0]"
   ]
  },
  {
   "cell_type": "code",
   "execution_count": 68,
   "metadata": {},
   "outputs": [
    {
     "name": "stderr",
     "output_type": "stream",
     "text": [
      "C:\\ProgramData\\Anaconda3\\lib\\site-packages\\ipykernel_launcher.py:3: UserWarning: Update your `Dense` call to the Keras 2 API: `Dense(18, input_dim=18, activation=\"relu\", kernel_initializer=\"normal\")`\n",
      "  This is separate from the ipykernel package so we can avoid doing imports until\n",
      "C:\\ProgramData\\Anaconda3\\lib\\site-packages\\ipykernel_launcher.py:4: UserWarning: Update your `Dense` call to the Keras 2 API: `Dense(18, activation=\"relu\", kernel_initializer=\"normal\")`\n",
      "  after removing the cwd from sys.path.\n",
      "C:\\ProgramData\\Anaconda3\\lib\\site-packages\\ipykernel_launcher.py:5: UserWarning: Update your `Dense` call to the Keras 2 API: `Dense(1, activation=\"sigmoid\", kernel_initializer=\"normal\")`\n",
      "  \"\"\"\n"
     ]
    },
    {
     "name": "stdout",
     "output_type": "stream",
     "text": [
      "Epoch 1/1\n",
      "554333/554333 [==============================] - 77s 139us/step - loss: 0.1518 - acc: 0.9641\n",
      "184778/184778 [==============================] - 15s 81us/step\n",
      "Epoch 1/1\n",
      "554333/554333 [==============================] - 77s 139us/step - loss: 0.1444 - acc: 0.9664\n",
      "184778/184778 [==============================] - 15s 82us/step\n",
      "Epoch 1/1\n",
      "554333/554333 [==============================] - 77s 140us/step - loss: 0.1425 - acc: 0.9669\n",
      "184778/184778 [==============================] - 15s 82us/step\n",
      "Epoch 1/1\n",
      "554334/554334 [==============================] - 78s 140us/step - loss: 0.1401 - acc: 0.9669\n",
      "184777/184777 [==============================] - 15s 83us/step\n",
      "msle = -0.14 std = 0.01\n"
     ]
    }
   ],
   "source": [
    "kr = KerasRegressor(build_fn=model, nb_epoch=1, batch_size=5, verbose=1)\n",
    "\n",
    "scores = cross_val_score(kr, XTrain, yTrain, cv=4)\n",
    "print(\"msle = %4.2f std = %4.2f\" % (scores.mean(),scores.std()))"
   ]
  },
  {
   "cell_type": "code",
   "execution_count": 71,
   "metadata": {},
   "outputs": [
    {
     "name": "stderr",
     "output_type": "stream",
     "text": [
      "C:\\ProgramData\\Anaconda3\\lib\\site-packages\\ipykernel_launcher.py:2: UserWarning: Update your `Dense` call to the Keras 2 API: `Dense(18, input_dim=18, activation=\"relu\", kernel_initializer=\"normal\")`\n",
      "  \n",
      "C:\\ProgramData\\Anaconda3\\lib\\site-packages\\ipykernel_launcher.py:3: UserWarning: Update your `Dense` call to the Keras 2 API: `Dense(18, activation=\"relu\", kernel_initializer=\"normal\")`\n",
      "  This is separate from the ipykernel package so we can avoid doing imports until\n",
      "C:\\ProgramData\\Anaconda3\\lib\\site-packages\\ipykernel_launcher.py:4: UserWarning: Update your `Dense` call to the Keras 2 API: `Dense(1, activation=\"sigmoid\", kernel_initializer=\"normal\")`\n",
      "  after removing the cwd from sys.path.\n"
     ]
    },
    {
     "name": "stdout",
     "output_type": "stream",
     "text": [
      "Train on 739111 samples, validate on 739111 samples\n",
      "Epoch 1/3\n",
      "739111/739111 [==============================] - 165s 224us/step - loss: 0.1436 - acc: 0.9665 - val_loss: 0.1397 - val_acc: 0.9673\n",
      "Epoch 2/3\n",
      "739111/739111 [==============================] - 165s 223us/step - loss: 0.1393 - acc: 0.9672 - val_loss: 0.1394 - val_acc: 0.9673\n",
      "Epoch 3/3\n",
      "739111/739111 [==============================] - 165s 223us/step - loss: 0.1390 - acc: 0.9672 - val_loss: 0.1382 - val_acc: 0.9674\n"
     ]
    },
    {
     "data": {
      "text/plain": [
       "<keras.callbacks.History at 0x244083c04e0>"
      ]
     },
     "execution_count": 71,
     "metadata": {},
     "output_type": "execute_result"
    }
   ],
   "source": [
    "    model = Sequential()\n",
    "    model.add(Dense(18, input_dim=18, init='normal', activation='relu'))\n",
    "    model.add(Dense(18, init='normal', activation='relu'))\n",
    "    model.add(Dense(1, init='normal', activation='sigmoid'))\n",
    "    model.compile(loss='binary_crossentropy', optimizer='adam', metrics=['accuracy'])\n",
    "    \n",
    "model.fit(XTrain, yTrain, validation_data=(XTest,yTest), epochs=3, batch_size=5)"
   ]
  },
  {
   "cell_type": "code",
   "execution_count": null,
   "metadata": {},
   "outputs": [],
   "source": []
  },
  {
   "cell_type": "code",
   "execution_count": null,
   "metadata": {},
   "outputs": [],
   "source": []
  }
 ],
 "metadata": {
  "kernelspec": {
   "display_name": "Python 3",
   "language": "python",
   "name": "python3"
  },
  "language_info": {
   "codemirror_mode": {
    "name": "ipython",
    "version": 3
   },
   "file_extension": ".py",
   "mimetype": "text/x-python",
   "name": "python",
   "nbconvert_exporter": "python",
   "pygments_lexer": "ipython3",
   "version": "3.6.4"
  }
 },
 "nbformat": 4,
 "nbformat_minor": 2
}
