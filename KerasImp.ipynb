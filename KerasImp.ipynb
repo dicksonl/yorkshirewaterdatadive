{
 "cells": [
  {
   "cell_type": "code",
   "execution_count": 6,
   "metadata": {},
   "outputs": [],
   "source": [
    "import pandas as pd\n",
    "import numpy as np\n",
    "from keras.models import Sequential\n",
    "from keras.layers import Dense, Activation, Dropout\n",
    "\n",
    "dfTrain = pd.read_csv(\"./NewTrainSet\")\n",
    "dfTrain = dfTrain.drop(columns=['DMA', 'Unnamed: 0'])\n",
    "\n",
    "dfTest = pd.read_csv(\"./NewTestSet\")\n",
    "dfTest = dfTest.drop(columns=['DMA', 'Unnamed: 0'])"
   ]
  },
  {
   "cell_type": "code",
   "execution_count": 7,
   "metadata": {},
   "outputs": [],
   "source": [
    "def df_to_numpy_array(df):\n",
    "    num_columns = list(df.select_dtypes(include=['float64', 'int64']).columns.values)\n",
    "    num_values = df[num_columns].values\n",
    "    bool_columns = list(df.select_dtypes(include=['bool']).columns.values)\n",
    "    bool_values = df[bool_columns].values\n",
    "    return np.concatenate((bool_values,num_values),axis=1)"
   ]
  },
  {
   "cell_type": "code",
   "execution_count": 8,
   "metadata": {},
   "outputs": [],
   "source": [
    "XTrain = df_to_numpy_array(dfTrain.drop(columns=[\"LeakFixIn4Days\", \"t20Leak\", \"t24Leak\", \"t28Leak\", \"t32Leak\", \"t36Leak\", \"t40Leak\"]))\n",
    "XTest = df_to_numpy_array(dfTest.drop(columns=[\"LeakFixIn4Days\", \"t20Leak\", \"t24Leak\", \"t28Leak\", \"t32Leak\", \"t36Leak\", \"t40Leak\"]))\n",
    "yTrain = df_to_numpy_array(dfTrain.drop(columns=[\"Flow\",\"dev\",\"t-4dev\",\"t-8dev\",\"t-12dev\",\"t-16dev\",\"t-20dev\",\"t-24dev\",\"t-28dev\",\"t-32dev\",\"t-36dev\",\"t-40dev\",\"t20Leak\", \"t24Leak\", \"t28Leak\", \"t32Leak\", \"t36Leak\", \"t40Leak\"]))\n",
    "yTest = df_to_numpy_array(dfTest.drop(columns=[\"Flow\",\"dev\",\"t-4dev\",\"t-8dev\",\"t-12dev\",\"t-16dev\",\"t-20dev\",\"t-24dev\",\"t-28dev\",\"t-32dev\",\"t-36dev\",\"t-40dev\",\"t20Leak\",\"t24Leak\",\"t28Leak\",\"t32Leak\",\"t36Leak\",\"t40Leak\"]))"
   ]
  },
  {
   "cell_type": "code",
   "execution_count": 11,
   "metadata": {},
   "outputs": [
    {
     "name": "stdout",
     "output_type": "stream",
     "text": [
      "Train on 100000 samples, validate on 12520 samples\n",
      "Epoch 1/20\n",
      "100000/100000 [==============================] - 58s 580us/step - loss: 0.5982 - acc: 0.6904 - val_loss: 0.5051 - val_acc: 0.8768\n",
      "Epoch 2/20\n",
      "100000/100000 [==============================] - 57s 573us/step - loss: 0.5874 - acc: 0.7004 - val_loss: 0.5059 - val_acc: 0.8585\n",
      "Epoch 3/20\n",
      "100000/100000 [==============================] - 57s 575us/step - loss: 0.5802 - acc: 0.7063 - val_loss: 0.4738 - val_acc: 0.8887\n",
      "Epoch 4/20\n",
      "100000/100000 [==============================] - 57s 574us/step - loss: 0.5738 - acc: 0.7113 - val_loss: 0.4608 - val_acc: 0.8945\n",
      "Epoch 5/20\n",
      "100000/100000 [==============================] - 57s 573us/step - loss: 0.5694 - acc: 0.7142 - val_loss: 0.4472 - val_acc: 0.8996\n",
      "Epoch 6/20\n",
      "100000/100000 [==============================] - 57s 573us/step - loss: 0.5673 - acc: 0.7155 - val_loss: 0.4288 - val_acc: 0.9027\n",
      "Epoch 7/20\n",
      "100000/100000 [==============================] - 57s 573us/step - loss: 0.5641 - acc: 0.7166 - val_loss: 0.4481 - val_acc: 0.8993\n",
      "Epoch 8/20\n",
      "100000/100000 [==============================] - 57s 573us/step - loss: 0.5628 - acc: 0.7181 - val_loss: 0.4345 - val_acc: 0.9006\n",
      "Epoch 9/20\n",
      "100000/100000 [==============================] - 57s 574us/step - loss: 0.5596 - acc: 0.7194 - val_loss: 0.4430 - val_acc: 0.8958\n",
      "Epoch 10/20\n",
      "100000/100000 [==============================] - 57s 574us/step - loss: 0.5589 - acc: 0.7207 - val_loss: 0.4419 - val_acc: 0.8951\n",
      "Epoch 11/20\n",
      "100000/100000 [==============================] - 57s 573us/step - loss: 0.5572 - acc: 0.7209 - val_loss: 0.4480 - val_acc: 0.8939\n",
      "Epoch 12/20\n",
      "100000/100000 [==============================] - 57s 573us/step - loss: 0.5577 - acc: 0.7198 - val_loss: 0.4431 - val_acc: 0.8942\n",
      "Epoch 13/20\n",
      "100000/100000 [==============================] - 57s 574us/step - loss: 0.5562 - acc: 0.7219 - val_loss: 0.4283 - val_acc: 0.8992\n",
      "Epoch 14/20\n",
      "100000/100000 [==============================] - 57s 573us/step - loss: 0.5548 - acc: 0.7220 - val_loss: 0.4529 - val_acc: 0.8877\n",
      "Epoch 15/20\n",
      "100000/100000 [==============================] - 57s 574us/step - loss: 0.5544 - acc: 0.7222 - val_loss: 0.4305 - val_acc: 0.8967\n",
      "Epoch 16/20\n",
      "100000/100000 [==============================] - 57s 574us/step - loss: 0.5535 - acc: 0.7236 - val_loss: 0.4416 - val_acc: 0.8911\n",
      "Epoch 17/20\n",
      "100000/100000 [==============================] - 57s 574us/step - loss: 0.5536 - acc: 0.7228 - val_loss: 0.4211 - val_acc: 0.8962\n",
      "Epoch 18/20\n",
      "100000/100000 [==============================] - 57s 574us/step - loss: 0.5530 - acc: 0.7226 - val_loss: 0.4372 - val_acc: 0.8957\n",
      "Epoch 19/20\n",
      "100000/100000 [==============================] - 57s 574us/step - loss: 0.5516 - acc: 0.7241 - val_loss: 0.4311 - val_acc: 0.8923\n",
      "Epoch 20/20\n",
      "100000/100000 [==============================] - 57s 575us/step - loss: 0.5513 - acc: 0.7245 - val_loss: 0.4293 - val_acc: 0.8903\n"
     ]
    },
    {
     "data": {
      "text/plain": [
       "<keras.callbacks.History at 0x13df5988940>"
      ]
     },
     "execution_count": 11,
     "metadata": {},
     "output_type": "execute_result"
    }
   ],
   "source": [
    "    model = Sequential()\n",
    "    model.add(Dense(12, input_dim=12, kernel_initializer ='normal', activation='relu'))\n",
    "    model.add(Dropout(0.2))\n",
    "    model.add(Dense(500, kernel_initializer ='normal', activation='relu'))\n",
    "    model.add(Dropout(0.2))\n",
    "    model.add(Dense(500, kernel_initializer ='normal', activation='relu'))\n",
    "    model.add(Dropout(0.2))\n",
    "    model.add(Dense(1, kernel_initializer ='normal', activation='sigmoid'))\n",
    "    model.compile(loss='binary_crossentropy', optimizer='adagrad', metrics=['accuracy'])\n",
    "    \n",
    "model.fit(XTrain, yTrain, validation_data=(XTest,yTest), epochs=20, batch_size=20)"
   ]
  },
  {
   "cell_type": "code",
   "execution_count": null,
   "metadata": {},
   "outputs": [],
   "source": []
  }
 ],
 "metadata": {
  "kernelspec": {
   "display_name": "Python 3",
   "language": "python",
   "name": "python3"
  },
  "language_info": {
   "codemirror_mode": {
    "name": "ipython",
    "version": 3
   },
   "file_extension": ".py",
   "mimetype": "text/x-python",
   "name": "python",
   "nbconvert_exporter": "python",
   "pygments_lexer": "ipython3",
   "version": "3.6.4"
  }
 },
 "nbformat": 4,
 "nbformat_minor": 2
}
