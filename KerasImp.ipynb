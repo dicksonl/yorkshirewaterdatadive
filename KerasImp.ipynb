{
 "cells": [
  {
   "cell_type": "code",
   "execution_count": 2,
   "metadata": {},
   "outputs": [
    {
     "name": "stderr",
     "output_type": "stream",
     "text": [
      "Using TensorFlow backend.\n"
     ]
    }
   ],
   "source": [
    "import pandas as pd\n",
    "import numpy as np\n",
    "from keras.models import Sequential\n",
    "from keras.layers import Dense, Activation, Dropout\n",
    "\n",
    "dfTrain = pd.read_csv(\"./NewTrainSet\")\n",
    "dfTrain = dfTrain.drop(columns=['DMA', 'Unnamed: 0'])\n",
    "\n",
    "dfTest = pd.read_csv(\"./NewTestSet\")\n",
    "dfTest = dfTest.drop(columns=['DMA', 'Unnamed: 0'])"
   ]
  },
  {
   "cell_type": "code",
   "execution_count": 3,
   "metadata": {},
   "outputs": [],
   "source": [
    "def df_to_numpy_array(df):\n",
    "    num_columns = list(df.select_dtypes(include=['float64', 'int64']).columns.values)\n",
    "    num_values = df[num_columns].values\n",
    "    bool_columns = list(df.select_dtypes(include=['bool']).columns.values)\n",
    "    bool_values = df[bool_columns].values\n",
    "    return np.concatenate((bool_values,num_values),axis=1)"
   ]
  },
  {
   "cell_type": "code",
   "execution_count": 4,
   "metadata": {},
   "outputs": [],
   "source": [
    "XTrain = df_to_numpy_array(dfTrain.drop(columns=[\"LeakFixIn4Days\", \"t20Leak\", \"t24Leak\", \"t28Leak\", \"t32Leak\", \"t36Leak\", \"t40Leak\"]))\n",
    "XTest = df_to_numpy_array(dfTest.drop(columns=[\"LeakFixIn4Days\", \"t20Leak\", \"t24Leak\", \"t28Leak\", \"t32Leak\", \"t36Leak\", \"t40Leak\"]))\n",
    "yTrain = df_to_numpy_array(dfTrain.drop(columns=[\"Flow\",\"dev\",\"t-4dev\",\"t-8dev\",\"t-12dev\",\"t-16dev\",\"t-20dev\",\"t-24dev\",\"t-28dev\",\"t-32dev\",\"t-36dev\",\"t-40dev\",\"t20Leak\", \"t24Leak\", \"t28Leak\", \"t32Leak\", \"t36Leak\", \"t40Leak\"]))\n",
    "yTest = df_to_numpy_array(dfTest.drop(columns=[\"Flow\",\"dev\",\"t-4dev\",\"t-8dev\",\"t-12dev\",\"t-16dev\",\"t-20dev\",\"t-24dev\",\"t-28dev\",\"t-32dev\",\"t-36dev\",\"t-40dev\",\"t20Leak\",\"t24Leak\",\"t28Leak\",\"t32Leak\",\"t36Leak\",\"t40Leak\"]))"
   ]
  },
  {
   "cell_type": "code",
   "execution_count": 10,
   "metadata": {},
   "outputs": [
    {
     "name": "stdout",
     "output_type": "stream",
     "text": [
      "Train on 100000 samples, validate on 12520 samples\n",
      "Epoch 1/8\n",
      "100000/100000 [==============================] - 15s 154us/step - loss: 0.6038 - acc: 0.6870 - val_loss: 0.6149 - val_acc: 0.8601\n",
      "Epoch 2/8\n",
      "100000/100000 [==============================] - 15s 149us/step - loss: 0.5911 - acc: 0.6992 - val_loss: 0.4862 - val_acc: 0.8903\n",
      "Epoch 3/8\n",
      "100000/100000 [==============================] - 15s 149us/step - loss: 0.5835 - acc: 0.7055 - val_loss: 0.4781 - val_acc: 0.8855\n",
      "Epoch 4/8\n",
      "100000/100000 [==============================] - 15s 150us/step - loss: 0.5789 - acc: 0.7087 - val_loss: 0.4570 - val_acc: 0.8901\n",
      "Epoch 5/8\n",
      "100000/100000 [==============================] - 15s 151us/step - loss: 0.5749 - acc: 0.7109 - val_loss: 0.4531 - val_acc: 0.8890\n",
      "Epoch 6/8\n",
      "100000/100000 [==============================] - 15s 150us/step - loss: 0.5720 - acc: 0.7127 - val_loss: 0.4556 - val_acc: 0.8851\n",
      "Epoch 7/8\n",
      "100000/100000 [==============================] - 15s 151us/step - loss: 0.5707 - acc: 0.7143 - val_loss: 0.4429 - val_acc: 0.8867\n",
      "Epoch 8/8\n",
      "100000/100000 [==============================] - 15s 151us/step - loss: 0.5680 - acc: 0.7150 - val_loss: 0.4447 - val_acc: 0.8843\n"
     ]
    },
    {
     "data": {
      "text/plain": [
       "<keras.callbacks.History at 0x1e65acf97f0>"
      ]
     },
     "execution_count": 10,
     "metadata": {},
     "output_type": "execute_result"
    }
   ],
   "source": [
    "    model = Sequential()\n",
    "    model.add(Dense(12, input_dim=12, kernel_initializer ='normal', activation='relu'))\n",
    "    model.add(Dropout(0.3))\n",
    "    model.add(Dense(1000, kernel_initializer ='normal', activation='relu'))\n",
    "    model.add(Dropout(0.3))\n",
    "    model.add(Dense(1000, kernel_initializer ='normal', activation='relu'))\n",
    "    model.add(Dropout(0.3))\n",
    "    model.add(Dense(1, kernel_initializer ='normal', activation='sigmoid'))\n",
    "    model.compile(loss='binary_crossentropy', optimizer='adagrad', metrics=['accuracy'])\n",
    "    \n",
    "model.fit(XTrain, yTrain, validation_data=(XTest,yTest), epochs=8, batch_size=20)"
   ]
  },
  {
   "cell_type": "code",
   "execution_count": 11,
   "metadata": {},
   "outputs": [],
   "source": [
    "from keras.models import load_model\n",
    "\n",
    "model.save('my_model.h5')  # creates a HDF5 file 'my_model.h5'\n",
    "\n",
    "del model  # deletes the existing model\n",
    "\n",
    "#model = load_model('my_model.h5')"
   ]
  },
  {
   "cell_type": "code",
   "execution_count": null,
   "metadata": {},
   "outputs": [],
   "source": []
  },
  {
   "cell_type": "code",
   "execution_count": null,
   "metadata": {},
   "outputs": [],
   "source": []
  }
 ],
 "metadata": {
  "kernelspec": {
   "display_name": "Python 3",
   "language": "python",
   "name": "python3"
  },
  "language_info": {
   "codemirror_mode": {
    "name": "ipython",
    "version": 3
   },
   "file_extension": ".py",
   "mimetype": "text/x-python",
   "name": "python",
   "nbconvert_exporter": "python",
   "pygments_lexer": "ipython3",
   "version": "3.6.4"
  }
 },
 "nbformat": 4,
 "nbformat_minor": 2
}
