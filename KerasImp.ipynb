{
 "cells": [
  {
   "cell_type": "code",
   "execution_count": 14,
   "metadata": {},
   "outputs": [
    {
     "data": {
      "text/html": [
       "<div>\n",
       "<style scoped>\n",
       "    .dataframe tbody tr th:only-of-type {\n",
       "        vertical-align: middle;\n",
       "    }\n",
       "\n",
       "    .dataframe tbody tr th {\n",
       "        vertical-align: top;\n",
       "    }\n",
       "\n",
       "    .dataframe thead th {\n",
       "        text-align: right;\n",
       "    }\n",
       "</style>\n",
       "<table border=\"1\" class=\"dataframe\">\n",
       "  <thead>\n",
       "    <tr style=\"text-align: right;\">\n",
       "      <th></th>\n",
       "      <th>Flow</th>\n",
       "      <th>dev</th>\n",
       "      <th>t-4dev</th>\n",
       "      <th>t-8dev</th>\n",
       "      <th>t-12dev</th>\n",
       "      <th>t-16dev</th>\n",
       "      <th>LeakFixIn4Days</th>\n",
       "    </tr>\n",
       "  </thead>\n",
       "  <tbody>\n",
       "    <tr>\n",
       "      <th>0</th>\n",
       "      <td>0.089</td>\n",
       "      <td>0.026370</td>\n",
       "      <td>0.014608</td>\n",
       "      <td>-0.020870</td>\n",
       "      <td>-0.018630</td>\n",
       "      <td>0.014765</td>\n",
       "      <td>False</td>\n",
       "    </tr>\n",
       "    <tr>\n",
       "      <th>1</th>\n",
       "      <td>0.033</td>\n",
       "      <td>-0.029000</td>\n",
       "      <td>0.029451</td>\n",
       "      <td>-0.012333</td>\n",
       "      <td>-0.018000</td>\n",
       "      <td>0.023451</td>\n",
       "      <td>False</td>\n",
       "    </tr>\n",
       "    <tr>\n",
       "      <th>2</th>\n",
       "      <td>0.067</td>\n",
       "      <td>-0.006370</td>\n",
       "      <td>0.097098</td>\n",
       "      <td>-0.053370</td>\n",
       "      <td>0.048630</td>\n",
       "      <td>-0.009314</td>\n",
       "      <td>False</td>\n",
       "    </tr>\n",
       "    <tr>\n",
       "      <th>3</th>\n",
       "      <td>0.111</td>\n",
       "      <td>0.039222</td>\n",
       "      <td>0.036569</td>\n",
       "      <td>-0.003815</td>\n",
       "      <td>-0.004778</td>\n",
       "      <td>0.029627</td>\n",
       "      <td>False</td>\n",
       "    </tr>\n",
       "    <tr>\n",
       "      <th>4</th>\n",
       "      <td>0.078</td>\n",
       "      <td>0.014608</td>\n",
       "      <td>-0.020870</td>\n",
       "      <td>-0.018630</td>\n",
       "      <td>0.014765</td>\n",
       "      <td>0.031275</td>\n",
       "      <td>False</td>\n",
       "    </tr>\n",
       "  </tbody>\n",
       "</table>\n",
       "</div>"
      ],
      "text/plain": [
       "    Flow       dev    t-4dev    t-8dev   t-12dev   t-16dev  LeakFixIn4Days\n",
       "0  0.089  0.026370  0.014608 -0.020870 -0.018630  0.014765           False\n",
       "1  0.033 -0.029000  0.029451 -0.012333 -0.018000  0.023451           False\n",
       "2  0.067 -0.006370  0.097098 -0.053370  0.048630 -0.009314           False\n",
       "3  0.111  0.039222  0.036569 -0.003815 -0.004778  0.029627           False\n",
       "4  0.078  0.014608 -0.020870 -0.018630  0.014765  0.031275           False"
      ]
     },
     "execution_count": 14,
     "metadata": {},
     "output_type": "execute_result"
    }
   ],
   "source": [
    "import pandas as pd\n",
    "import matplotlib.pyplot as plt\n",
    "\n",
    "df = pd.read_pickle(\"./trainingSet\")\n",
    "df.head()"
   ]
  },
  {
   "cell_type": "code",
   "execution_count": 15,
   "metadata": {},
   "outputs": [
    {
     "data": {
      "text/plain": [
       "724227"
      ]
     },
     "execution_count": 15,
     "metadata": {},
     "output_type": "execute_result"
    }
   ],
   "source": [
    "df[df[\"LeakFixIn4Days\"] == False].shape[0]"
   ]
  },
  {
   "cell_type": "code",
   "execution_count": 16,
   "metadata": {},
   "outputs": [
    {
     "data": {
      "text/plain": [
       "27436"
      ]
     },
     "execution_count": 16,
     "metadata": {},
     "output_type": "execute_result"
    }
   ],
   "source": [
    "df[df[\"LeakFixIn4Days\"] == True].shape[0]"
   ]
  },
  {
   "cell_type": "code",
   "execution_count": null,
   "metadata": {},
   "outputs": [],
   "source": []
  }
 ],
 "metadata": {
  "kernelspec": {
   "display_name": "Python 3",
   "language": "python",
   "name": "python3"
  },
  "language_info": {
   "codemirror_mode": {
    "name": "ipython",
    "version": 3
   },
   "file_extension": ".py",
   "mimetype": "text/x-python",
   "name": "python",
   "nbconvert_exporter": "python",
   "pygments_lexer": "ipython3",
   "version": "3.6.4"
  }
 },
 "nbformat": 4,
 "nbformat_minor": 2
}
