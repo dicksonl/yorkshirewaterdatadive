{
 "cells": [
  {
   "cell_type": "code",
   "execution_count": 27,
   "metadata": {},
   "outputs": [
    {
     "data": {
      "text/html": [
       "<div>\n",
       "<style scoped>\n",
       "    .dataframe tbody tr th:only-of-type {\n",
       "        vertical-align: middle;\n",
       "    }\n",
       "\n",
       "    .dataframe tbody tr th {\n",
       "        vertical-align: top;\n",
       "    }\n",
       "\n",
       "    .dataframe thead th {\n",
       "        text-align: right;\n",
       "    }\n",
       "</style>\n",
       "<table border=\"1\" class=\"dataframe\">\n",
       "  <thead>\n",
       "    <tr style=\"text-align: right;\">\n",
       "      <th></th>\n",
       "      <th>Flow</th>\n",
       "      <th>dev</th>\n",
       "      <th>t-4dev</th>\n",
       "      <th>t-8dev</th>\n",
       "      <th>t-12dev</th>\n",
       "      <th>t-16dev</th>\n",
       "      <th>LeakFixIn4Days</th>\n",
       "    </tr>\n",
       "  </thead>\n",
       "  <tbody>\n",
       "    <tr>\n",
       "      <th>0</th>\n",
       "      <td>0.089</td>\n",
       "      <td>0.026370</td>\n",
       "      <td>0.014608</td>\n",
       "      <td>-0.020870</td>\n",
       "      <td>-0.018630</td>\n",
       "      <td>0.014765</td>\n",
       "      <td>False</td>\n",
       "    </tr>\n",
       "    <tr>\n",
       "      <th>1</th>\n",
       "      <td>0.033</td>\n",
       "      <td>-0.029000</td>\n",
       "      <td>0.029451</td>\n",
       "      <td>-0.012333</td>\n",
       "      <td>-0.018000</td>\n",
       "      <td>0.023451</td>\n",
       "      <td>False</td>\n",
       "    </tr>\n",
       "    <tr>\n",
       "      <th>2</th>\n",
       "      <td>0.067</td>\n",
       "      <td>-0.006370</td>\n",
       "      <td>0.097098</td>\n",
       "      <td>-0.053370</td>\n",
       "      <td>0.048630</td>\n",
       "      <td>-0.009314</td>\n",
       "      <td>False</td>\n",
       "    </tr>\n",
       "    <tr>\n",
       "      <th>3</th>\n",
       "      <td>0.111</td>\n",
       "      <td>0.039222</td>\n",
       "      <td>0.036569</td>\n",
       "      <td>-0.003815</td>\n",
       "      <td>-0.004778</td>\n",
       "      <td>0.029627</td>\n",
       "      <td>False</td>\n",
       "    </tr>\n",
       "    <tr>\n",
       "      <th>4</th>\n",
       "      <td>0.078</td>\n",
       "      <td>0.014608</td>\n",
       "      <td>-0.020870</td>\n",
       "      <td>-0.018630</td>\n",
       "      <td>0.014765</td>\n",
       "      <td>0.031275</td>\n",
       "      <td>False</td>\n",
       "    </tr>\n",
       "  </tbody>\n",
       "</table>\n",
       "</div>"
      ],
      "text/plain": [
       "    Flow       dev    t-4dev    t-8dev   t-12dev   t-16dev  LeakFixIn4Days\n",
       "0  0.089  0.026370  0.014608 -0.020870 -0.018630  0.014765           False\n",
       "1  0.033 -0.029000  0.029451 -0.012333 -0.018000  0.023451           False\n",
       "2  0.067 -0.006370  0.097098 -0.053370  0.048630 -0.009314           False\n",
       "3  0.111  0.039222  0.036569 -0.003815 -0.004778  0.029627           False\n",
       "4  0.078  0.014608 -0.020870 -0.018630  0.014765  0.031275           False"
      ]
     },
     "execution_count": 27,
     "metadata": {},
     "output_type": "execute_result"
    }
   ],
   "source": [
    "import pandas as pd\n",
    "import matplotlib.pyplot as plt\n",
    "\n",
    "df = pd.read_pickle(\"./trainingSet\")\n",
    "df.head()"
   ]
  },
  {
   "cell_type": "code",
   "execution_count": 28,
   "metadata": {},
   "outputs": [
    {
     "data": {
      "text/plain": [
       "724227"
      ]
     },
     "execution_count": 28,
     "metadata": {},
     "output_type": "execute_result"
    }
   ],
   "source": [
    "df[df[\"LeakFixIn4Days\"] == False].shape[0]"
   ]
  },
  {
   "cell_type": "code",
   "execution_count": 29,
   "metadata": {},
   "outputs": [
    {
     "data": {
      "text/plain": [
       "27436"
      ]
     },
     "execution_count": 29,
     "metadata": {},
     "output_type": "execute_result"
    }
   ],
   "source": [
    "df[df[\"LeakFixIn4Days\"] == True].shape[0]"
   ]
  },
  {
   "cell_type": "code",
   "execution_count": 30,
   "metadata": {},
   "outputs": [],
   "source": [
    "FalseTrain = df[df[\"LeakFixIn4Days\"] == False][:20000]\n",
    "#FalseSample[FalseSample[\"LeakFixIn4Days\"] == True].shape[0]"
   ]
  },
  {
   "cell_type": "code",
   "execution_count": 31,
   "metadata": {},
   "outputs": [],
   "source": [
    "TrueTrain = df[df[\"LeakFixIn4Days\"] == True][:20000]"
   ]
  },
  {
   "cell_type": "code",
   "execution_count": 32,
   "metadata": {},
   "outputs": [
    {
     "data": {
      "text/plain": [
       "20000"
      ]
     },
     "execution_count": 32,
     "metadata": {},
     "output_type": "execute_result"
    }
   ],
   "source": [
    "TrueTrain.shape[0]"
   ]
  },
  {
   "cell_type": "code",
   "execution_count": 33,
   "metadata": {},
   "outputs": [
    {
     "data": {
      "text/html": [
       "<div>\n",
       "<style scoped>\n",
       "    .dataframe tbody tr th:only-of-type {\n",
       "        vertical-align: middle;\n",
       "    }\n",
       "\n",
       "    .dataframe tbody tr th {\n",
       "        vertical-align: top;\n",
       "    }\n",
       "\n",
       "    .dataframe thead th {\n",
       "        text-align: right;\n",
       "    }\n",
       "</style>\n",
       "<table border=\"1\" class=\"dataframe\">\n",
       "  <thead>\n",
       "    <tr style=\"text-align: right;\">\n",
       "      <th></th>\n",
       "      <th>Flow</th>\n",
       "      <th>dev</th>\n",
       "      <th>t-4dev</th>\n",
       "      <th>t-8dev</th>\n",
       "      <th>t-12dev</th>\n",
       "      <th>t-16dev</th>\n",
       "      <th>LeakFixIn4Days</th>\n",
       "    </tr>\n",
       "  </thead>\n",
       "  <tbody>\n",
       "    <tr>\n",
       "      <th>0</th>\n",
       "      <td>0.089</td>\n",
       "      <td>0.026370</td>\n",
       "      <td>0.014608</td>\n",
       "      <td>-0.020870</td>\n",
       "      <td>-0.018630</td>\n",
       "      <td>0.014765</td>\n",
       "      <td>False</td>\n",
       "    </tr>\n",
       "    <tr>\n",
       "      <th>1</th>\n",
       "      <td>0.033</td>\n",
       "      <td>-0.029000</td>\n",
       "      <td>0.029451</td>\n",
       "      <td>-0.012333</td>\n",
       "      <td>-0.018000</td>\n",
       "      <td>0.023451</td>\n",
       "      <td>False</td>\n",
       "    </tr>\n",
       "    <tr>\n",
       "      <th>2</th>\n",
       "      <td>0.067</td>\n",
       "      <td>-0.006370</td>\n",
       "      <td>0.097098</td>\n",
       "      <td>-0.053370</td>\n",
       "      <td>0.048630</td>\n",
       "      <td>-0.009314</td>\n",
       "      <td>False</td>\n",
       "    </tr>\n",
       "    <tr>\n",
       "      <th>3</th>\n",
       "      <td>0.111</td>\n",
       "      <td>0.039222</td>\n",
       "      <td>0.036569</td>\n",
       "      <td>-0.003815</td>\n",
       "      <td>-0.004778</td>\n",
       "      <td>0.029627</td>\n",
       "      <td>False</td>\n",
       "    </tr>\n",
       "    <tr>\n",
       "      <th>4</th>\n",
       "      <td>0.078</td>\n",
       "      <td>0.014608</td>\n",
       "      <td>-0.020870</td>\n",
       "      <td>-0.018630</td>\n",
       "      <td>0.014765</td>\n",
       "      <td>0.031275</td>\n",
       "      <td>False</td>\n",
       "    </tr>\n",
       "  </tbody>\n",
       "</table>\n",
       "</div>"
      ],
      "text/plain": [
       "    Flow       dev    t-4dev    t-8dev   t-12dev   t-16dev  LeakFixIn4Days\n",
       "0  0.089  0.026370  0.014608 -0.020870 -0.018630  0.014765           False\n",
       "1  0.033 -0.029000  0.029451 -0.012333 -0.018000  0.023451           False\n",
       "2  0.067 -0.006370  0.097098 -0.053370  0.048630 -0.009314           False\n",
       "3  0.111  0.039222  0.036569 -0.003815 -0.004778  0.029627           False\n",
       "4  0.078  0.014608 -0.020870 -0.018630  0.014765  0.031275           False"
      ]
     },
     "execution_count": 33,
     "metadata": {},
     "output_type": "execute_result"
    }
   ],
   "source": [
    "FalseTrain.head()"
   ]
  },
  {
   "cell_type": "code",
   "execution_count": 34,
   "metadata": {},
   "outputs": [
    {
     "data": {
      "text/html": [
       "<div>\n",
       "<style scoped>\n",
       "    .dataframe tbody tr th:only-of-type {\n",
       "        vertical-align: middle;\n",
       "    }\n",
       "\n",
       "    .dataframe tbody tr th {\n",
       "        vertical-align: top;\n",
       "    }\n",
       "\n",
       "    .dataframe thead th {\n",
       "        text-align: right;\n",
       "    }\n",
       "</style>\n",
       "<table border=\"1\" class=\"dataframe\">\n",
       "  <thead>\n",
       "    <tr style=\"text-align: right;\">\n",
       "      <th></th>\n",
       "      <th>Flow</th>\n",
       "      <th>dev</th>\n",
       "      <th>t-4dev</th>\n",
       "      <th>t-8dev</th>\n",
       "      <th>t-12dev</th>\n",
       "      <th>t-16dev</th>\n",
       "      <th>LeakFixIn4Days</th>\n",
       "    </tr>\n",
       "  </thead>\n",
       "  <tbody>\n",
       "    <tr>\n",
       "      <th>2164</th>\n",
       "      <td>1.537283</td>\n",
       "      <td>0.915392</td>\n",
       "      <td>-0.100164</td>\n",
       "      <td>-0.215848</td>\n",
       "      <td>-0.271058</td>\n",
       "      <td>-0.156757</td>\n",
       "      <td>True</td>\n",
       "    </tr>\n",
       "    <tr>\n",
       "      <th>2165</th>\n",
       "      <td>1.482097</td>\n",
       "      <td>0.851603</td>\n",
       "      <td>-0.094068</td>\n",
       "      <td>-0.231821</td>\n",
       "      <td>-0.199109</td>\n",
       "      <td>-0.134916</td>\n",
       "      <td>True</td>\n",
       "    </tr>\n",
       "    <tr>\n",
       "      <th>2166</th>\n",
       "      <td>1.463438</td>\n",
       "      <td>0.851787</td>\n",
       "      <td>-0.147154</td>\n",
       "      <td>-0.230055</td>\n",
       "      <td>-0.188005</td>\n",
       "      <td>-0.139214</td>\n",
       "      <td>True</td>\n",
       "    </tr>\n",
       "    <tr>\n",
       "      <th>2167</th>\n",
       "      <td>1.468175</td>\n",
       "      <td>0.861425</td>\n",
       "      <td>-0.136146</td>\n",
       "      <td>-0.213199</td>\n",
       "      <td>-0.236267</td>\n",
       "      <td>-0.126692</td>\n",
       "      <td>True</td>\n",
       "    </tr>\n",
       "    <tr>\n",
       "      <th>2168</th>\n",
       "      <td>0.494170</td>\n",
       "      <td>-0.100164</td>\n",
       "      <td>-0.215848</td>\n",
       "      <td>-0.271058</td>\n",
       "      <td>-0.156757</td>\n",
       "      <td>-0.181292</td>\n",
       "      <td>True</td>\n",
       "    </tr>\n",
       "  </tbody>\n",
       "</table>\n",
       "</div>"
      ],
      "text/plain": [
       "          Flow       dev    t-4dev    t-8dev   t-12dev   t-16dev  \\\n",
       "2164  1.537283  0.915392 -0.100164 -0.215848 -0.271058 -0.156757   \n",
       "2165  1.482097  0.851603 -0.094068 -0.231821 -0.199109 -0.134916   \n",
       "2166  1.463438  0.851787 -0.147154 -0.230055 -0.188005 -0.139214   \n",
       "2167  1.468175  0.861425 -0.136146 -0.213199 -0.236267 -0.126692   \n",
       "2168  0.494170 -0.100164 -0.215848 -0.271058 -0.156757 -0.181292   \n",
       "\n",
       "      LeakFixIn4Days  \n",
       "2164            True  \n",
       "2165            True  \n",
       "2166            True  \n",
       "2167            True  \n",
       "2168            True  "
      ]
     },
     "execution_count": 34,
     "metadata": {},
     "output_type": "execute_result"
    }
   ],
   "source": [
    "TrueTrain.head()"
   ]
  },
  {
   "cell_type": "code",
   "execution_count": 35,
   "metadata": {},
   "outputs": [],
   "source": [
    "TrainSet = pd.concat([FalseTrain, TrueTrain], axis=0)"
   ]
  },
  {
   "cell_type": "code",
   "execution_count": 36,
   "metadata": {},
   "outputs": [
    {
     "data": {
      "text/plain": [
       "40000"
      ]
     },
     "execution_count": 36,
     "metadata": {},
     "output_type": "execute_result"
    }
   ],
   "source": [
    "TrainSet.shape[0]"
   ]
  },
  {
   "cell_type": "code",
   "execution_count": 37,
   "metadata": {},
   "outputs": [],
   "source": [
    "TestSet = pd.concat([df[df[\"LeakFixIn4Days\"] == False][20000:27000], df[df[\"LeakFixIn4Days\"] == True][20000:]], axis=0)"
   ]
  },
  {
   "cell_type": "code",
   "execution_count": 38,
   "metadata": {},
   "outputs": [
    {
     "data": {
      "text/plain": [
       "14436"
      ]
     },
     "execution_count": 38,
     "metadata": {},
     "output_type": "execute_result"
    }
   ],
   "source": [
    "TestSet.shape[0]"
   ]
  },
  {
   "cell_type": "code",
   "execution_count": 39,
   "metadata": {},
   "outputs": [],
   "source": [
    "TrainSet.to_csv('./TrainSet')\n",
    "TestSet.to_csv('./TestSet')"
   ]
  },
  {
   "cell_type": "code",
   "execution_count": null,
   "metadata": {},
   "outputs": [],
   "source": []
  }
 ],
 "metadata": {
  "kernelspec": {
   "display_name": "Python 3",
   "language": "python",
   "name": "python3"
  },
  "language_info": {
   "codemirror_mode": {
    "name": "ipython",
    "version": 3
   },
   "file_extension": ".py",
   "mimetype": "text/x-python",
   "name": "python",
   "nbconvert_exporter": "python",
   "pygments_lexer": "ipython3",
   "version": "3.5.5"
  }
 },
 "nbformat": 4,
 "nbformat_minor": 2
}
