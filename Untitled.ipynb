{
 "cells": [
  {
   "cell_type": "code",
   "execution_count": 2,
   "metadata": {},
   "outputs": [],
   "source": [
    "import numpy as np\n",
    "import pandas as pd\n",
    "import tensorflow as tf\n",
    "import sklearn\n",
    "import sklearn.preprocessing\n",
    "import matplotlib.pyplot as plt"
   ]
  },
  {
   "cell_type": "code",
   "execution_count": 3,
   "metadata": {},
   "outputs": [
    {
     "data": {
      "text/html": [
       "<div>\n",
       "<style scoped>\n",
       "    .dataframe tbody tr th:only-of-type {\n",
       "        vertical-align: middle;\n",
       "    }\n",
       "\n",
       "    .dataframe tbody tr th {\n",
       "        vertical-align: top;\n",
       "    }\n",
       "\n",
       "    .dataframe thead th {\n",
       "        text-align: right;\n",
       "    }\n",
       "</style>\n",
       "<table border=\"1\" class=\"dataframe\">\n",
       "  <thead>\n",
       "    <tr style=\"text-align: right;\">\n",
       "      <th></th>\n",
       "      <th>Flow</th>\n",
       "    </tr>\n",
       "  </thead>\n",
       "  <tbody>\n",
       "    <tr>\n",
       "      <th>count</th>\n",
       "      <td>105102.000000</td>\n",
       "    </tr>\n",
       "    <tr>\n",
       "      <th>mean</th>\n",
       "      <td>14.584083</td>\n",
       "    </tr>\n",
       "    <tr>\n",
       "      <th>std</th>\n",
       "      <td>5.588015</td>\n",
       "    </tr>\n",
       "    <tr>\n",
       "      <th>min</th>\n",
       "      <td>-18.611000</td>\n",
       "    </tr>\n",
       "    <tr>\n",
       "      <th>25%</th>\n",
       "      <td>8.786458</td>\n",
       "    </tr>\n",
       "    <tr>\n",
       "      <th>50%</th>\n",
       "      <td>16.297220</td>\n",
       "    </tr>\n",
       "    <tr>\n",
       "      <th>75%</th>\n",
       "      <td>18.876495</td>\n",
       "    </tr>\n",
       "    <tr>\n",
       "      <th>max</th>\n",
       "      <td>32.565199</td>\n",
       "    </tr>\n",
       "  </tbody>\n",
       "</table>\n",
       "</div>"
      ],
      "text/plain": [
       "                Flow\n",
       "count  105102.000000\n",
       "mean       14.584083\n",
       "std         5.588015\n",
       "min       -18.611000\n",
       "25%         8.786458\n",
       "50%        16.297220\n",
       "75%        18.876495\n",
       "max        32.565199"
      ]
     },
     "execution_count": 3,
     "metadata": {},
     "output_type": "execute_result"
    }
   ],
   "source": [
    "df = pd.read_csv(\"./data/df_31.csv\")\n",
    "\n",
    "df.describe()"
   ]
  },
  {
   "cell_type": "code",
   "execution_count": 4,
   "metadata": {},
   "outputs": [
    {
     "data": {
      "text/html": [
       "<div>\n",
       "<style scoped>\n",
       "    .dataframe tbody tr th:only-of-type {\n",
       "        vertical-align: middle;\n",
       "    }\n",
       "\n",
       "    .dataframe tbody tr th {\n",
       "        vertical-align: top;\n",
       "    }\n",
       "\n",
       "    .dataframe thead th {\n",
       "        text-align: right;\n",
       "    }\n",
       "</style>\n",
       "<table border=\"1\" class=\"dataframe\">\n",
       "  <thead>\n",
       "    <tr style=\"text-align: right;\">\n",
       "      <th></th>\n",
       "      <th>Flow</th>\n",
       "    </tr>\n",
       "  </thead>\n",
       "  <tbody>\n",
       "    <tr>\n",
       "      <th>0</th>\n",
       "      <td>7.051461</td>\n",
       "    </tr>\n",
       "    <tr>\n",
       "      <th>1</th>\n",
       "      <td>7.051461</td>\n",
       "    </tr>\n",
       "    <tr>\n",
       "      <th>2</th>\n",
       "      <td>7.051461</td>\n",
       "    </tr>\n",
       "    <tr>\n",
       "      <th>3</th>\n",
       "      <td>6.529461</td>\n",
       "    </tr>\n",
       "    <tr>\n",
       "      <th>4</th>\n",
       "      <td>6.529461</td>\n",
       "    </tr>\n",
       "  </tbody>\n",
       "</table>\n",
       "</div>"
      ],
      "text/plain": [
       "       Flow\n",
       "0  7.051461\n",
       "1  7.051461\n",
       "2  7.051461\n",
       "3  6.529461\n",
       "4  6.529461"
      ]
     },
     "execution_count": 4,
     "metadata": {},
     "output_type": "execute_result"
    }
   ],
   "source": [
    "df.head()"
   ]
  },
  {
   "cell_type": "code",
   "execution_count": 5,
   "metadata": {},
   "outputs": [],
   "source": [
    "    df = df[np.isfinite(df['Flow'])]\n",
    "    \n",
    "    df = df[(df['Flow']>0)]\n",
    "    \n",
    "    min_max_scaler = sklearn.preprocessing.MinMaxScaler()\n",
    "    df['Flow'] = min_max_scaler.fit_transform(df.Flow.values.reshape(-1, 1))"
   ]
  },
  {
   "cell_type": "code",
   "execution_count": 6,
   "metadata": {},
   "outputs": [
    {
     "data": {
      "text/plain": [
       "[<matplotlib.lines.Line2D at 0x1c3b79e7080>]"
      ]
     },
     "execution_count": 6,
     "metadata": {},
     "output_type": "execute_result"
    },
    {
     "data": {
      "image/png": "[encoded data removed]",
      "text/plain": [
       "<matplotlib.figure.Figure at 0x1c3b7efcba8>"
      ]
     },
     "metadata": {},
     "output_type": "display_data"
    }
   ],
   "source": [
    "plt.plot(df, label='31')"
   ]
  },
  {
   "cell_type": "code",
   "execution_count": 7,
   "metadata": {},
   "outputs": [],
   "source": [
    "def train_test_split(timeseries, train_size=0.75, val_size=0.0):\n",
    "\n",
    "    if train_size >= 1:\n",
    "        raise ValueError('train_size has to be between 0 and 1')\n",
    "\n",
    "    if val_size >= 1:\n",
    "        raise ValueError('val_size has to be between 0 and 1')\n",
    "\n",
    "    N = timeseries.shape[0]\n",
    "\n",
    "    train_size = int(N * train_size)\n",
    "    val_size = int(N * val_size)\n",
    "    test_size = N - train_size - val_size\n",
    "\n",
    "    if(val_size>0):\n",
    "        train, val,test = timeseries[0:train_size,:], timeseries[train_size:train_size+val_size,:], timeseries[train_size+val_size:N,:]\n",
    "        return train,val,test\n",
    "    else:\n",
    "        train, test = timeseries.iloc[0:train_size,:], timeseries.iloc[train_size:len(timeseries),:]\n",
    "        return train,test"
   ]
  },
  {
   "cell_type": "code",
   "execution_count": 8,
   "metadata": {},
   "outputs": [],
   "source": [
    "import sys\n",
    "\n",
    "def shift(arr, num, fill_value=0):\n",
    "    #print(arr)\n",
    "    result = np.empty_like(arr)\n",
    "    if num > 0:\n",
    "        result[:num] = fill_value\n",
    "        result[num:] = arr.iloc[:-num]\n",
    "    elif num < 0:\n",
    "        result[num:] = fill_value\n",
    "        result[:num] = arr.iloc[-num:]\n",
    "    else:\n",
    "        result = arr\n",
    "    return result\n",
    "\n",
    "sflush = sys.stdout.flush\n",
    "\n",
    "def mvts_to_xy(*tslist, n_x=1, n_y=1, x_idx=None, y_idx=None):\n",
    "    n_ts = len(tslist)\n",
    "    if n_ts == 0:\n",
    "        raise ValueError('At least one timeseries required as input')\n",
    "\n",
    "    #TODO: Validation of other options\n",
    "\n",
    "    result = []\n",
    "\n",
    "    for ts in tslist:\n",
    "        ts_cols = 1 if ts.ndim==1 else ts.shape[1]\n",
    "        if x_idx is None:\n",
    "            x_idx = range(0,ts_cols)\n",
    "        if y_idx is None:\n",
    "            y_idx = range(0,ts_cols)\n",
    "\n",
    "        n_x_vars = len(x_idx)\n",
    "        n_y_vars = len(y_idx)\n",
    "\n",
    "        ts_rows = ts.shape[0]\n",
    "        n_rows = ts_rows - n_x - n_y + 1\n",
    "\n",
    "        dataX=np.empty(shape=(n_rows, n_x_vars * n_x),dtype=np.float32)\n",
    "        dataY=np.empty(shape=(n_rows, n_y_vars * n_y),dtype=np.float32)\n",
    "        x_cols, y_cols, names = list(), list(), list()\n",
    "\n",
    "        # input sequence x (t-n, ... t-1)\n",
    "        from_col = 0\n",
    "        for i in range(n_x, 0, -1):\n",
    "            dataX.iloc[:,from_col:from_col+n_x_vars]=shift(ts[:,x_idx],i)[n_x:ts_rows-n_y+1]\n",
    "            from_col = from_col+n_x_vars\n",
    "\n",
    "        # forecast sequence (t, t+1, ... t+n)\n",
    "        from_col = 0\n",
    "        for i in range(0, n_y):\n",
    "            #y_cols.append(shift(ts,-i))\n",
    "            dataY[:,from_col:from_col+n_y_vars]=shift(ts[:,y_idx],-i).iloc[n_x:ts_rows-n_y+1]\n",
    "            from_col = from_col + n_y_vars\n",
    "\n",
    "        # put it all together\n",
    "        #x_agg = concat(x_cols, axis=1).dropna(inplace=True)\n",
    "        #y_agg = concat(y_cols, axis=1).dropna(inplace=True)\n",
    "\n",
    "        #dataX = np.array(x_cols,dtype=np.float32)\n",
    "        #dataY = np.array(y_cols,dtype=np.float32)\n",
    "\n",
    "        result.append(dataX)\n",
    "        result.append(dataY)\n",
    "    return result\n"
   ]
  },
  {
   "cell_type": "code",
   "execution_count": 11,
   "metadata": {},
   "outputs": [
    {
     "data": {
      "text/html": [
       "<div>\n",
       "<style scoped>\n",
       "    .dataframe tbody tr th:only-of-type {\n",
       "        vertical-align: middle;\n",
       "    }\n",
       "\n",
       "    .dataframe tbody tr th {\n",
       "        vertical-align: top;\n",
       "    }\n",
       "\n",
       "    .dataframe thead th {\n",
       "        text-align: right;\n",
       "    }\n",
       "</style>\n",
       "<table border=\"1\" class=\"dataframe\">\n",
       "  <thead>\n",
       "    <tr style=\"text-align: right;\">\n",
       "      <th></th>\n",
       "      <th>Flow</th>\n",
       "    </tr>\n",
       "  </thead>\n",
       "  <tbody>\n",
       "    <tr>\n",
       "      <th>0</th>\n",
       "      <td>0.181937</td>\n",
       "    </tr>\n",
       "    <tr>\n",
       "      <th>1</th>\n",
       "      <td>0.181937</td>\n",
       "    </tr>\n",
       "    <tr>\n",
       "      <th>2</th>\n",
       "      <td>0.181937</td>\n",
       "    </tr>\n",
       "    <tr>\n",
       "      <th>3</th>\n",
       "      <td>0.165200</td>\n",
       "    </tr>\n",
       "    <tr>\n",
       "      <th>4</th>\n",
       "      <td>0.165200</td>\n",
       "    </tr>\n",
       "  </tbody>\n",
       "</table>\n",
       "</div>"
      ],
      "text/plain": [
       "       Flow\n",
       "0  0.181937\n",
       "1  0.181937\n",
       "2  0.181937\n",
       "3  0.165200\n",
       "4  0.165200"
      ]
     },
     "execution_count": 11,
     "metadata": {},
     "output_type": "execute_result"
    }
   ],
   "source": [
    "train,test=train_test_split(df,train_size=0.67)\n",
    "\n",
    "n_x=500\n",
    "n_y=200\n",
    "n_x_vars = 1 \n",
    "n_y_vars = 1\n",
    "\n",
    "train.head()"
   ]
  },
  {
   "cell_type": "code",
   "execution_count": null,
   "metadata": {},
   "outputs": [],
   "source": []
  }
 ],
 "metadata": {
  "kernelspec": {
   "display_name": "Python 3",
   "language": "python",
   "name": "python3"
  },
  "language_info": {
   "codemirror_mode": {
    "name": "ipython",
    "version": 3
   },
   "file_extension": ".py",
   "mimetype": "text/x-python",
   "name": "python",
   "nbconvert_exporter": "python",
   "pygments_lexer": "ipython3",
   "version": "3.6.4"
  }
 },
 "nbformat": 4,
 "nbformat_minor": 2
}
