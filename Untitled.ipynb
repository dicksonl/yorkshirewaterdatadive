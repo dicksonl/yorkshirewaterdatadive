{
 "cells": [
  {
   "cell_type": "code",
   "execution_count": 8,
   "metadata": {},
   "outputs": [
    {
     "data": {
      "text/html": [
       "<div>\n",
       "<style scoped>\n",
       "    .dataframe tbody tr th:only-of-type {\n",
       "        vertical-align: middle;\n",
       "    }\n",
       "\n",
       "    .dataframe tbody tr th {\n",
       "        vertical-align: top;\n",
       "    }\n",
       "\n",
       "    .dataframe thead th {\n",
       "        text-align: right;\n",
       "    }\n",
       "</style>\n",
       "<table border=\"1\" class=\"dataframe\">\n",
       "  <thead>\n",
       "    <tr style=\"text-align: right;\">\n",
       "      <th></th>\n",
       "      <th>Flow</th>\n",
       "      <th>dev</th>\n",
       "      <th>t-1dev</th>\n",
       "      <th>t-2dev</th>\n",
       "      <th>t-3dev</th>\n",
       "      <th>t-4dev</th>\n",
       "      <th>t-5dev</th>\n",
       "      <th>t-6dev</th>\n",
       "      <th>t-7dev</th>\n",
       "      <th>t-8dev</th>\n",
       "      <th>t-9dev</th>\n",
       "      <th>t-10dev</th>\n",
       "      <th>t-11dev</th>\n",
       "      <th>t-12dev</th>\n",
       "      <th>exist</th>\n",
       "    </tr>\n",
       "  </thead>\n",
       "  <tbody>\n",
       "    <tr>\n",
       "      <th>0</th>\n",
       "      <td>0.089</td>\n",
       "      <td>0.026370</td>\n",
       "      <td>-0.029000</td>\n",
       "      <td>-0.006370</td>\n",
       "      <td>0.039222</td>\n",
       "      <td>0.014608</td>\n",
       "      <td>0.097098</td>\n",
       "      <td>0.036569</td>\n",
       "      <td>-0.020870</td>\n",
       "      <td>-0.012333</td>\n",
       "      <td>-0.053370</td>\n",
       "      <td>-0.003815</td>\n",
       "      <td>-0.018630</td>\n",
       "      <td>-0.018000</td>\n",
       "      <td>False</td>\n",
       "    </tr>\n",
       "    <tr>\n",
       "      <th>1</th>\n",
       "      <td>0.033</td>\n",
       "      <td>-0.029000</td>\n",
       "      <td>-0.006370</td>\n",
       "      <td>0.039222</td>\n",
       "      <td>0.014608</td>\n",
       "      <td>0.029451</td>\n",
       "      <td>0.036569</td>\n",
       "      <td>-0.020870</td>\n",
       "      <td>-0.012333</td>\n",
       "      <td>-0.053370</td>\n",
       "      <td>-0.003815</td>\n",
       "      <td>-0.018630</td>\n",
       "      <td>-0.018000</td>\n",
       "      <td>0.048630</td>\n",
       "      <td>False</td>\n",
       "    </tr>\n",
       "    <tr>\n",
       "      <th>2</th>\n",
       "      <td>0.067</td>\n",
       "      <td>-0.006370</td>\n",
       "      <td>0.039222</td>\n",
       "      <td>0.014608</td>\n",
       "      <td>0.029451</td>\n",
       "      <td>0.097098</td>\n",
       "      <td>-0.020870</td>\n",
       "      <td>-0.012333</td>\n",
       "      <td>-0.053370</td>\n",
       "      <td>-0.003815</td>\n",
       "      <td>-0.018630</td>\n",
       "      <td>-0.018000</td>\n",
       "      <td>0.048630</td>\n",
       "      <td>-0.004778</td>\n",
       "      <td>False</td>\n",
       "    </tr>\n",
       "    <tr>\n",
       "      <th>3</th>\n",
       "      <td>0.111</td>\n",
       "      <td>0.039222</td>\n",
       "      <td>0.014608</td>\n",
       "      <td>0.029451</td>\n",
       "      <td>0.097098</td>\n",
       "      <td>0.036569</td>\n",
       "      <td>-0.012333</td>\n",
       "      <td>-0.053370</td>\n",
       "      <td>-0.003815</td>\n",
       "      <td>-0.018630</td>\n",
       "      <td>-0.018000</td>\n",
       "      <td>0.048630</td>\n",
       "      <td>-0.004778</td>\n",
       "      <td>0.014765</td>\n",
       "      <td>False</td>\n",
       "    </tr>\n",
       "    <tr>\n",
       "      <th>4</th>\n",
       "      <td>0.078</td>\n",
       "      <td>0.014608</td>\n",
       "      <td>0.029451</td>\n",
       "      <td>0.097098</td>\n",
       "      <td>0.036569</td>\n",
       "      <td>-0.020870</td>\n",
       "      <td>-0.053370</td>\n",
       "      <td>-0.003815</td>\n",
       "      <td>-0.018630</td>\n",
       "      <td>-0.018000</td>\n",
       "      <td>0.048630</td>\n",
       "      <td>-0.004778</td>\n",
       "      <td>0.014765</td>\n",
       "      <td>0.023451</td>\n",
       "      <td>False</td>\n",
       "    </tr>\n",
       "  </tbody>\n",
       "</table>\n",
       "</div>"
      ],
      "text/plain": [
       "    Flow       dev    t-1dev    t-2dev    t-3dev    t-4dev    t-5dev  \\\n",
       "0  0.089  0.026370 -0.029000 -0.006370  0.039222  0.014608  0.097098   \n",
       "1  0.033 -0.029000 -0.006370  0.039222  0.014608  0.029451  0.036569   \n",
       "2  0.067 -0.006370  0.039222  0.014608  0.029451  0.097098 -0.020870   \n",
       "3  0.111  0.039222  0.014608  0.029451  0.097098  0.036569 -0.012333   \n",
       "4  0.078  0.014608  0.029451  0.097098  0.036569 -0.020870 -0.053370   \n",
       "\n",
       "     t-6dev    t-7dev    t-8dev    t-9dev   t-10dev   t-11dev   t-12dev  exist  \n",
       "0  0.036569 -0.020870 -0.012333 -0.053370 -0.003815 -0.018630 -0.018000  False  \n",
       "1 -0.020870 -0.012333 -0.053370 -0.003815 -0.018630 -0.018000  0.048630  False  \n",
       "2 -0.012333 -0.053370 -0.003815 -0.018630 -0.018000  0.048630 -0.004778  False  \n",
       "3 -0.053370 -0.003815 -0.018630 -0.018000  0.048630 -0.004778  0.014765  False  \n",
       "4 -0.003815 -0.018630 -0.018000  0.048630 -0.004778  0.014765  0.023451  False  "
      ]
     },
     "execution_count": 8,
     "metadata": {},
     "output_type": "execute_result"
    }
   ],
   "source": [
    "import pandas as pd\n",
    "import matplotlib.pyplot as plt\n",
    "\n",
    "df = pd.read_pickle(\"./trainingSet\")\n",
    "df.head()"
   ]
  },
  {
   "cell_type": "code",
   "execution_count": 9,
   "metadata": {},
   "outputs": [
    {
     "data": {
      "text/plain": [
       "747193"
      ]
     },
     "execution_count": 9,
     "metadata": {},
     "output_type": "execute_result"
    }
   ],
   "source": [
    "df[df[\"exist\"] == False].shape[0]"
   ]
  },
  {
   "cell_type": "code",
   "execution_count": 10,
   "metadata": {},
   "outputs": [
    {
     "data": {
      "text/plain": [
       "6042"
      ]
     },
     "execution_count": 10,
     "metadata": {},
     "output_type": "execute_result"
    }
   ],
   "source": [
    "df[df[\"exist\"] == True].shape[0]"
   ]
  },
  {
   "cell_type": "code",
   "execution_count": null,
   "metadata": {},
   "outputs": [],
   "source": []
  }
 ],
 "metadata": {
  "kernelspec": {
   "display_name": "Python 3",
   "language": "python",
   "name": "python3"
  },
  "language_info": {
   "codemirror_mode": {
    "name": "ipython",
    "version": 3
   },
   "file_extension": ".py",
   "mimetype": "text/x-python",
   "name": "python",
   "nbconvert_exporter": "python",
   "pygments_lexer": "ipython3",
   "version": "3.6.4"
  }
 },
 "nbformat": 4,
 "nbformat_minor": 2
}
